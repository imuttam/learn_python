{
 "cells": [
  {
   "cell_type": "markdown",
   "id": "a25c7d11-772e-4d27-addf-03fbdabe5135",
   "metadata": {},
   "source": [
    "***TCS DAILY REPORT***"
   ]
  },
  {
   "cell_type": "code",
   "execution_count": 1,
   "id": "8555d01b-70e7-41af-8595-95923e87f0b0",
   "metadata": {},
   "outputs": [],
   "source": [
    "import pandas as pd\n",
    "import numpy as np\n",
    "\n",
    "file_path = 'C:\\\\Users\\\\ACER\\\\Documents\\\\PYTHON\\\\data_analysis\\\\data_set\\\\EZ_Jharkhand_RAN_KPI_Phase_2_daily_26_09_2024.xlsx'"
   ]
  },
  {
   "cell_type": "code",
   "execution_count": 30,
   "id": "551e462b-5cdf-4dbd-ae95-3297c90449a6",
   "metadata": {},
   "outputs": [
    {
     "name": "stdout",
     "output_type": "stream",
     "text": [
      "          TCS Daily report of 26-09-2024\n",
      "************************************************************\n",
      "The number of unique values in the column \"LOCATION\" is: 194\n"
     ]
    }
   ],
   "source": [
    "sheet_name = 'RAN KPI Report Phase2'\n",
    "header_column = 'LOCATION'\n",
    "file_date = file_path.split('daily_')[1].split('.xlsx')[0].replace('_','-')\n",
    "print(f\"{' '*10}TCS Daily report of {file_date}\")\n",
    "print(\"*\"*60)\n",
    "# Load the data\n",
    "df = pd.read_excel(file_path, sheet_name=sheet_name)\n",
    "\n",
    "# Calculate the number of unique values in the specified column\n",
    "unique_values = df[header_column].nunique()\n",
    "print(f'The number of unique values in the column \"{header_column}\" is: {unique_values}')"
   ]
  },
  {
   "cell_type": "code",
   "execution_count": 3,
   "id": "2b93617e-8ef3-4fff-860f-2e85ee524ff2",
   "metadata": {},
   "outputs": [],
   "source": [
    "df['Data Volume - Total (GB)'] = pd.to_numeric(df['Data Volume - Total (GB)'], errors='coerce')\n",
    "total_data_volume = df['Data Volume - Total (GB)'].sum()"
   ]
  },
  {
   "cell_type": "markdown",
   "id": "8df41e78-3ddb-4af4-8882-336279387681",
   "metadata": {},
   "source": [
    "***Convert 'Total VoLTE Traffic(in Erlang)' column to numeric, coercing errors***"
   ]
  },
  {
   "cell_type": "code",
   "execution_count": 4,
   "id": "93d7f739-0251-4ec4-916e-5c84bf1fd1d8",
   "metadata": {},
   "outputs": [],
   "source": [
    "\n",
    "df['VOLTE Traffic (Erlang)'] = pd.to_numeric(df['VOLTE Traffic (Erlang)'], errors='coerce')\n",
    "# Calculate the sum of the VOLTE Traffic (Erlang)\n",
    "total_volte_traffic = df['VOLTE Traffic (Erlang)'].sum()"
   ]
  },
  {
   "cell_type": "code",
   "execution_count": 5,
   "id": "59bc46b9-c680-462c-ac82-623b271cd0c6",
   "metadata": {},
   "outputs": [],
   "source": [
    "Avg_Data_Traffic = (total_data_volume/unique_values )"
   ]
  },
  {
   "cell_type": "markdown",
   "id": "cadccaa4-0a47-411a-9a2b-1773566c4d79",
   "metadata": {},
   "source": [
    "##### Group by LOCATION and sum the Data Volume - Total (GB) for each location ####"
   ]
  },
  {
   "cell_type": "code",
   "execution_count": 6,
   "id": "8e31e9c6-a7be-44f7-b116-7c35f7184b05",
   "metadata": {},
   "outputs": [],
   "source": [
    "location_sums = df.groupby('LOCATION')['Data Volume - Total (GB)'].sum().reset_index()\n",
    "# Counting the number of locations in each category\n",
    "count_50_gb_plus = location_sums[location_sums['Data Volume - Total (GB)'] > 50].count()\n",
    "count_20_to_50_gb = location_sums[(location_sums['Data Volume - Total (GB)'] > 20) & (location_sums['Data Volume - Total (GB)'] <= 50)].count()\n",
    "count_1_to_20_gb = location_sums[(location_sums['Data Volume - Total (GB)'] > 1) & (location_sums['Data Volume - Total (GB)'] <= 20)].count()\n",
    "count_0_to_1_gb = location_sums[(location_sums['Data Volume - Total (GB)'] > 0) & (location_sums['Data Volume - Total (GB)'] <= 1)].count()\n",
    "count_0 = location_sums[location_sums['Data Volume - Total (GB)'] == 0].count()\n"
   ]
  },
  {
   "cell_type": "code",
   "execution_count": 7,
   "id": "d61eade4-8cb8-4b17-9a6e-7feb66e7c3ad",
   "metadata": {},
   "outputs": [],
   "source": [
    "Avg_VoLTE_Traffic = (total_volte_traffic/unique_values )"
   ]
  },
  {
   "cell_type": "code",
   "execution_count": 8,
   "id": "dcb70780-4ccd-4bca-ad19-c4648173e215",
   "metadata": {},
   "outputs": [],
   "source": [
    "location_volte = df.groupby('LOCATION')['VOLTE Traffic (Erlang)'].sum().reset_index()\n",
    "count_volte_less_1 = location_volte[location_volte['VOLTE Traffic (Erlang)'] < 1].count()"
   ]
  },
  {
   "cell_type": "markdown",
   "id": "8744b671-2377-413d-868c-8dce9c6a7320",
   "metadata": {},
   "source": [
    "#### MAX ACTIVE USER ####"
   ]
  },
  {
   "cell_type": "code",
   "execution_count": 9,
   "id": "e104fd00-19b8-4b4c-9f9e-9ce82ba0e34d",
   "metadata": {},
   "outputs": [],
   "source": [
    "\n",
    "df['QCI1'] = pd.to_numeric(df['MAX ACTIVE Users (DL) -QCI1'], errors='coerce')\n",
    "df['QCI6'] = pd.to_numeric(df['MAX ACTIVE Users (DL) -QCI6'], errors='coerce')\n",
    "df['QCI8'] = pd.to_numeric(df['MAX ACTIVE Users (DL) -QCI8'], errors='coerce')\n",
    "df['QCI9'] = pd.to_numeric(df['MAX ACTIVE Users (DL) -QCI9'], errors='coerce')\n",
    "\n",
    "MAX_ACTIVE_USERS = df['QCI1'].sum() + df['QCI6'].sum() + df['QCI8'].sum() + df['QCI9'].sum()"
   ]
  },
  {
   "cell_type": "markdown",
   "id": "6b8ceca5-d35e-429a-99fd-3248e016418e",
   "metadata": {},
   "source": [
    "##### E-UTRAN Cell availability (%) #####"
   ]
  },
  {
   "cell_type": "code",
   "execution_count": 10,
   "id": "02b62a09-40f5-4688-8652-fa838df53af0",
   "metadata": {},
   "outputs": [],
   "source": [
    "df['E-UTRAN Cell availability (%)'] = pd.to_numeric(df['E-UTRAN Cell availability (%)'], errors='coerce')\n",
    "eNB_Network_Availability = df['E-UTRAN Cell availability (%)'].mean()"
   ]
  },
  {
   "cell_type": "code",
   "execution_count": 11,
   "id": "79f514c4-f966-4098-813f-3afe9ce10221",
   "metadata": {},
   "outputs": [],
   "source": [
    "rrc_attempt = pd.to_numeric(df['RRC Connection Attempts(All)'], errors='coerce')\n",
    "rrc_success = pd.to_numeric(df['Successful RRC connection attempts'], errors='coerce')\n",
    "avg_rrc = (rrc_attempt.sum()-rrc_success.sum())/rrc_attempt.sum()"
   ]
  },
  {
   "cell_type": "code",
   "execution_count": 12,
   "id": "dacf7217-43c3-4e67-90a0-926a8e991094",
   "metadata": {},
   "outputs": [],
   "source": [
    "# Convert the \"CSSR\" column to numeric, forcing errors to NaN\n",
    "df['CSSR'] = pd.to_numeric(df['CSSR'], errors='coerce')\n",
    "cssr_avg = df['CSSR'].mean()"
   ]
  },
  {
   "cell_type": "code",
   "execution_count": 13,
   "id": "4246f854-12e8-4fa1-b4a2-99e1b6f538d7",
   "metadata": {},
   "outputs": [],
   "source": [
    "df['CSSR VOLTE'] = pd.to_numeric(df['CSSR VOLTE'], errors='coerce')\n",
    "cssr_avg_volte = df['CSSR VOLTE'].mean()"
   ]
  },
  {
   "cell_type": "code",
   "execution_count": 14,
   "id": "0c270250-f064-484c-ba94-bfbc2cdfe5f2",
   "metadata": {},
   "outputs": [],
   "source": [
    "erab_attempt = pd.to_numeric(df['ERAB Setup Attempts'], errors='coerce')\n",
    "erab_success = pd.to_numeric(df['Successful ERAB setup attempts'], errors='coerce')\n",
    "avg_erab = erab_success.sum()/erab_attempt.sum()"
   ]
  },
  {
   "cell_type": "code",
   "execution_count": 15,
   "id": "831717cf-5518-41ea-9b44-cb06333388de",
   "metadata": {},
   "outputs": [],
   "source": [
    "erab_volte_attempt = pd.to_numeric(df['ERAB Setup Attempts(VOLTE)'], errors='coerce')\n",
    "erab_volte_success = pd.to_numeric(df['Successful ERAB Setup Attempts(VOLTE)'], errors='coerce')\n",
    "avg_volte_erab = (erab_volte_attempt.sum()-erab_volte_success.sum())/erab_volte_attempt.sum()"
   ]
  },
  {
   "cell_type": "code",
   "execution_count": 16,
   "id": "12ab8676-1fd1-4387-a7c8-4df8b6c53b3e",
   "metadata": {},
   "outputs": [],
   "source": [
    "csfb_attempt = pd.to_numeric(df['CSFB Preparation attempt'], errors='coerce')\n",
    "csfb_success = pd.to_numeric(df['Successful CSFB Preparation'], errors='coerce')\n",
    "avg_csfb = (csfb_attempt.sum()-csfb_success.sum())/csfb_attempt.sum()"
   ]
  },
  {
   "cell_type": "code",
   "execution_count": 17,
   "id": "3fdaa6b6-ccc9-43fb-b591-7326a1a799fe",
   "metadata": {},
   "outputs": [],
   "source": [
    "ps_ho_attempt = pd.to_numeric(df['PS handover attempts(LTE intra system)'], errors='coerce')\n",
    "ps_ho_success = pd.to_numeric(df['Successful PS HO attempts (LTE Intra System)'], errors='coerce')\n",
    "avg_ps_ho = ps_ho_success.sum()/ps_ho_attempt.sum()"
   ]
  },
  {
   "cell_type": "code",
   "execution_count": 18,
   "id": "ff1b9ed6-e8cc-4588-80b6-94f500ee3bd8",
   "metadata": {},
   "outputs": [],
   "source": [
    "geran_ho_attempt = pd.to_numeric(df['Inter RAT HO Out Attempts(GERAN)'], errors='coerce')\n",
    "geran_ho_success = pd.to_numeric(df['Successful Inter RAT HO Out Attempts (GERAN)'], errors='coerce')\n",
    "avg_geran_ho = (geran_ho_attempt.sum()-geran_ho_success.sum())/geran_ho_attempt.sum()"
   ]
  },
  {
   "cell_type": "code",
   "execution_count": 19,
   "id": "bb51ada7-2ea9-4de8-a735-6926af42baa9",
   "metadata": {},
   "outputs": [],
   "source": [
    "# Calculate DROP Call Rate for each row, handle division by zero\n",
    "df['DROP Call Rate'] = np.where(df['DROP Call Rate (Denom)'] != 0, df['DROP Call Rate (Numerator)'] / df['DROP Call Rate (Denom)'],np.nan)  # Replace with NaN where Denom is 0\n",
    "# Calculate the average of all DROP Call Rates, ignoring NaN values\n",
    "average_drop_call_rate = df['DROP Call Rate'].mean()"
   ]
  },
  {
   "cell_type": "code",
   "execution_count": 20,
   "id": "3b1c5f87-9395-4ae2-a6c3-73e4b374c86e",
   "metadata": {},
   "outputs": [],
   "source": [
    "# Calculate Avg ERAB Drop Rate-VoLTE (%) \n",
    "df['DROP ERAB Rate'] = df['ERAB Drop Volte (Numerator)'] / df['ERAB Drop Volte (Denom)']\n",
    "average_drop_erab_rate = df['DROP ERAB Rate'].mean()"
   ]
  },
  {
   "cell_type": "code",
   "execution_count": 31,
   "id": "1ea5563b-31ac-45a3-a213-4844e2717a40",
   "metadata": {},
   "outputs": [
    {
     "name": "stdout",
     "output_type": "stream",
     "text": [
      "          TCS Daily report of 26-09-2024\n",
      "************************************************************\n",
      "The number of unique values in the column \"LOCATION\" is: 194\n",
      "POINT:7  Total Data Volume (GB): 5838.44\n",
      "POINT:8  Total VOLTE Traffic (Erlang): 204.16\n",
      "POINT:9  Avg Data Traffic(in GB) per site: 30.10\n",
      "POINT:10 Avg VoLTE Traffic (in Erlang) per site: 1.05\n",
      "POINT:12 4G sites > 50 GB traffic: 40\n",
      "POINT:13 4G sites between 20GB to 50 GB: 36\n",
      "POINT:14 4G sites between 1GB to 20 GB: 78\n",
      "POINT:15 4G sites from Zero to 1GB: 25\n",
      "POINT:16 No of Zero GB  sites: 15\n",
      "POINT:17 No of sites with VoLTE traffic < 1 Erlang: 145\n",
      "POINT:18 MAX_ACTIVE_USERS : 5877\n",
      "POINT:19 %4G eNB Network Availability : 81.88\n",
      "POINT:21 Avg RRC Connection Success Rate (%) : 78.41\n",
      "POINT:22 The average of \"CSSR  (%)\" is: 90.10\n",
      "POINT:23 Avg CSSR VoLTE (%) is: 99.17\n",
      "POINT:24 Avg ERAB Success Rate (%) : 95.65\n",
      "POINT:25 Avg ERAB VOLTE Success Rate (%) : 99.11\n",
      "POINT:26 Avg CSFB Preparation success rate (%) : 99.56\n",
      "POINT:27 Avg PS handover success rate(LTE intra system) (%) : 85.48\n",
      "POINT:29 Avg Inter RAT HO out Success Rate (GERAN) (%) : 78.73\n",
      "POINT:30 Average DROP Call Rate: 2.53\n",
      "POINT:31 Avg ERAB Drop Rate-VoLTE (%) of all sites: 1.52\n"
     ]
    }
   ],
   "source": [
    "print(f\"{' '*10}TCS Daily report of {file_date}\")\n",
    "print(\"*\"*60)\n",
    "print(f'The number of unique values in the column \"{header_column}\" is: {unique_values}')\n",
    "print(f\"POINT:7  Total Data Volume (GB): {total_data_volume:.2f}\")\n",
    "print(f\"POINT:8  Total VOLTE Traffic (Erlang): {total_volte_traffic:.2f}\")\n",
    "print(f\"POINT:9  Avg Data Traffic(in GB) per site: {Avg_Data_Traffic:.2f}\")\n",
    "print(f\"POINT:10 Avg VoLTE Traffic (in Erlang) per site: {Avg_VoLTE_Traffic:.2f}\")\n",
    "# Display the counts\n",
    "print(f\"POINT:12 4G sites > 50 GB traffic: {count_50_gb_plus['LOCATION']}\")\n",
    "print(f\"POINT:13 4G sites between 20GB to 50 GB: {count_20_to_50_gb['LOCATION']}\")\n",
    "print(f\"POINT:14 4G sites between 1GB to 20 GB: {count_1_to_20_gb['LOCATION']}\")\n",
    "print(f\"POINT:15 4G sites from Zero to 1GB: {count_0_to_1_gb['LOCATION']}\")\n",
    "print(f\"POINT:16 No of Zero GB  sites: {count_0['LOCATION']}\")\n",
    "print(f\"POINT:17 No of sites with VoLTE traffic < 1 Erlang: {count_volte_less_1['LOCATION']}\")\n",
    "print(f\"POINT:18 MAX_ACTIVE_USERS : {int(MAX_ACTIVE_USERS)}\")\n",
    "print(f\"POINT:19 %4G eNB Network Availability : {eNB_Network_Availability:.2f}\")\n",
    "print(f\"POINT:21 Avg RRC Connection Success Rate (%) : {100-avg_rrc*100:.2f}\")\n",
    "print(f'POINT:22 The average of \"CSSR  (%)\" is: {cssr_avg:.2f}')\n",
    "print(f'POINT:23 Avg CSSR VoLTE (%) is: {cssr_avg_volte:.2f}')\n",
    "print(f\"POINT:24 Avg ERAB Success Rate (%) : {avg_erab*100:.2f}\")\n",
    "print(f\"POINT:25 Avg ERAB VOLTE Success Rate (%) : {100-avg_volte_erab*100:.2f}\")\n",
    "print(f\"POINT:26 Avg CSFB Preparation success rate (%) : {100- avg_csfb*100:.2f}\")\n",
    "print(f\"POINT:27 Avg PS handover success rate(LTE intra system) (%) : {avg_ps_ho*100:.2f}\")\n",
    "print(f\"POINT:29 Avg Inter RAT HO out Success Rate (GERAN) (%) : {avg_geran_ho*100:.2f}\")\n",
    "print(f\"POINT:30 Average DROP Call Rate: {average_drop_call_rate*100:.2f}\")\n",
    "print(f\"POINT:31 Avg ERAB Drop Rate-VoLTE (%) of all sites: {average_drop_erab_rate*100:.2f}\")"
   ]
  },
  {
   "cell_type": "code",
   "execution_count": null,
   "id": "031cf28e-09ff-4595-b1c8-07c86799eed9",
   "metadata": {},
   "outputs": [],
   "source": []
  }
 ],
 "metadata": {
  "kernelspec": {
   "display_name": "Python 3 (ipykernel)",
   "language": "python",
   "name": "python3"
  },
  "language_info": {
   "codemirror_mode": {
    "name": "ipython",
    "version": 3
   },
   "file_extension": ".py",
   "mimetype": "text/x-python",
   "name": "python",
   "nbconvert_exporter": "python",
   "pygments_lexer": "ipython3",
   "version": "3.12.4"
  }
 },
 "nbformat": 4,
 "nbformat_minor": 5
}
